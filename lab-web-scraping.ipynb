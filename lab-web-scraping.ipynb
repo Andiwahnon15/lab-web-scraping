{
  "cells": [
    {
      "cell_type": "markdown",
      "id": "7e7a1ab8-2599-417d-9a65-25ef07f3a786",
      "metadata": {
        "id": "7e7a1ab8-2599-417d-9a65-25ef07f3a786"
      },
      "source": [
        "# Lab | Web Scraping"
      ]
    },
    {
      "cell_type": "markdown",
      "id": "ce8882fc-4815-4567-92fa-b4816358ba7d",
      "metadata": {
        "id": "ce8882fc-4815-4567-92fa-b4816358ba7d"
      },
      "source": [
        "Welcome to the IMDb Web Scraping Adventure Lab!\n",
        "\n",
        "**Objective**\n",
        "\n",
        "In this lab, we will embark on a mission to unearth valuable insights from the vast sea of data available on IMDb, one of the largest online databases of movie, TV, and celebrity information. As budding data scientists and business analysts, you have been tasked to scrape a specific subset of data from IMDb to assist film production companies in understanding the landscape of highly-rated movies in a defined time period. Your insights will potentially influence the making of the next netflix movie!\n",
        "\n",
        "**Background**\n",
        "\n",
        "In a world where data has become the new currency, businesses are leveraging big data to make informed decisions that drive success and profitability. The entertainment industry, being no exception, utilizes data analytics to comprehend market trends, audience preferences, and the performance of films based on various parameters such as director, genre, stars involved, etc. IMDb stands as a goldmine of such data, offering intricate details of almost every movie ever made.\n",
        "\n",
        "**Task**\n",
        "\n",
        "Your task is to create a Python script using `BeautifulSoup` and `pandas` to scrape IMDb movie data based on user ratings and release dates. This script should be able to filter movies with ratings above a certain threshold and within a specified date range.\n",
        "\n",
        "**Expected Outcome**\n",
        "\n",
        "- A function named `scrape_imdb` that takes four parameters: `title_type`,`user_rating`, `start_date`, and `end_date`.\n",
        "- The function should return a DataFrame with the following columns:\n",
        "  - **Movie Nr**: The number representing the movie’s position in the list.\n",
        "  - **Title**: The title of the movie.\n",
        "  - **Year**: The year the movie was released.\n",
        "  - **Rating**: The IMDb rating of the movie.\n",
        "  - **Runtime (min)**: The duration of the movie in minutes.\n",
        "  - **Genre**: The genre of the movie.\n",
        "  - **Description**: A brief description of the movie.\n",
        "  - **Director**: The director of the movie.\n",
        "  - **Stars**: The main stars of the movie.\n",
        "  - **Votes**: The number of votes the movie received.\n",
        "  - **Gross ($M)**: The gross earnings of the movie in millions of USD.\n",
        "\n",
        "You will execute this script to scrape data for movies with the Title Type `Feature Film` that have a user rating of `7.5 and above` and were released between `January 1, 1990, and December 31, 1992`.\n",
        "\n",
        "Remember to experiment with different title types, dates and ratings to ensure your code is versatile and can handle various searches effectively!\n",
        "\n",
        "**Resources**\n",
        "\n",
        "- [Beautiful Soup Documentation](https://www.crummy.com/software/BeautifulSoup/bs4/doc/)\n",
        "- [Pandas Documentation](https://pandas.pydata.org/pandas-docs/stable/index.html)\n",
        "- [IMDb Advanced Search](https://www.imdb.com/search/title/)\n"
      ]
    },
    {
      "cell_type": "markdown",
      "id": "3519921d-5890-445b-9a33-934ed8ee378c",
      "metadata": {
        "id": "3519921d-5890-445b-9a33-934ed8ee378c"
      },
      "source": [
        "**Hint**\n",
        "\n",
        "Your first mission is to familiarize yourself with the IMDb advanced search page. Head over to [IMDb advanced search](https://www.imdb.com/search/title/) and input the following parameters, keeping all other fields to their default values or blank:\n",
        "\n",
        "- **Title Type**: Feature film\n",
        "- **Release date**: From 1990 to 1992 (Note: You don't need to specify the day and month)\n",
        "- **User Rating**: 7.5 to -\n",
        "\n",
        "Upon searching, you'll land on a page showcasing a list of movies, each displaying vital details such as the title, release year, and crew information. Your task is to scrape this treasure trove of data.\n",
        "\n",
        "Carefully examine the resulting URL and construct your own URL to include all the necessary parameters for filtering the movies."
      ]
    },
    {
      "cell_type": "markdown",
      "id": "25a83a0d-a742-49f6-985e-e27887cbf922",
      "metadata": {
        "id": "25a83a0d-a742-49f6-985e-e27887cbf922"
      },
      "source": [
        "\n",
        "---\n",
        "\n",
        "**Best of luck! Immerse yourself in the world of movies and may the data be with you!**"
      ]
    },
    {
      "cell_type": "markdown",
      "id": "7b75cf0d-9afa-4eec-a9e2-befeac68b2a0",
      "metadata": {
        "id": "7b75cf0d-9afa-4eec-a9e2-befeac68b2a0"
      },
      "source": [
        "**Important note**:\n",
        "\n",
        "In the fast-changing online world, websites often get updates and make changes. When you try this lab, the IMDb website might be different from what we expect.\n",
        "\n",
        "If you run into problems because of these changes, like new rules or things that stop you from getting data, don't worry! Instead, get creative.\n",
        "\n",
        "You can choose another website that interests you and is good for scraping data. Websites like Wikipedia or The New York Times are good options. The main goal is still the same: get useful data and learn how to scrape it from a website that you find interesting. It's a chance to practice your web scraping skills and explore a source of information you like."
      ]
    },
    {
      "cell_type": "code",
      "execution_count": 1,
      "id": "40359eee-9cd7-4884-bfa4-83344c222305",
      "metadata": {
        "id": "40359eee-9cd7-4884-bfa4-83344c222305"
      },
      "outputs": [],
      "source": [
        "import requests\n",
        "import pandas as pd\n",
        "from bs4 import BeautifulSoup"
      ]
    },
    {
      "cell_type": "code",
      "execution_count": 2,
      "id": "a3a5d167",
      "metadata": {},
      "outputs": [
        {
          "name": "stdout",
          "output_type": "stream",
          "text": [
            "                                  \\\n",
            "0              Alcachofa Pequeña   \n",
            "1      Alcachofa Híbrida Pequeña   \n",
            "2                        Brócoli   \n",
            "3           Pimiento Rojo Lamuyo   \n",
            "4          Pimiento Verde Lamuyo   \n",
            "5   Pimiento Amarillo California   \n",
            "6              Pimiento Italiano   \n",
            "7                Pimiento Padrón   \n",
            "8                       Col Lisa   \n",
            "9                       Coliflor   \n",
            "10                    Tomate Raf   \n",
            "11                Tomate Daniela   \n",
            "12                   Tomate Pera   \n",
            "13                        Pepino   \n",
            "14                  Judias Finas   \n",
            "15                     Calabacin   \n",
            "16              Berenjena Rayada   \n",
            "17                       Alficoz   \n",
            "18                         Limón   \n",
            "19                 Patata Spunta   \n",
            "20                  Boniato Rojo   \n",
            "\n",
            "                                                Plaza    Industria  \n",
            "0                                                1.80  1.20 / 1.00  \n",
            "1                                                1.27               \n",
            "2                                                0.50               \n",
            "3   2.02 / 1.98 / 1.93 / 1.92/ 1.91 / 1.90 / 1.87 ...  0.40 / 0.30  \n",
            "4                 1.40 / 1.32 / 1.30\\n2º\\n0.80 / 0.50               \n",
            "5                                                1.65               \n",
            "6                                                1.70               \n",
            "7                                         3.10 / 2.65               \n",
            "8                                                0.50               \n",
            "9                                                1.30               \n",
            "10                   1.60 / 1.50 / 1.45 / 1.10 / 0.80               \n",
            "11                                               0.60               \n",
            "12                                               0.56               \n",
            "13                                               0.52               \n",
            "14                                               2.50               \n",
            "15                          0.45 / 0.40 / 0.32 / 0.20               \n",
            "16                                               0.60               \n",
            "17                          2.00 / 1.20 / 0.75 / 0.65               \n",
            "18                                               0.25               \n",
            "19                          0.66 / 0.58 / 0.51 / 0.50               \n",
            "20                                        0.66 / 0.65               \n"
          ]
        }
      ],
      "source": [
        "# URL de la página que contiene la tabla\n",
        "url = 'https://www.3puentes.es/pizarra/'\n",
        "\n",
        "# Realiza la solicitud HTTP a la página\n",
        "response = requests.get(url)\n",
        "\n",
        "# Crear una lista vacía para almacenar los datos de cada fila\n",
        "data = []\n",
        "\n",
        "# Verifica que la solicitud fue exitosa\n",
        "if response.status_code == 200:\n",
        "\n",
        "    # Parsea el contenido HTML de la respuesta\n",
        "    soup = BeautifulSoup(response.text, 'html.parser')\n",
        "\n",
        "    # Busca la tabla especifica por un identificador único\n",
        "    tabla = soup.find('table')\n",
        "\n",
        "    # Verifica que se encontró la tabla if tabla:\n",
        "    if tabla:\n",
        "        filas = tabla.find_all('tr')\n",
        "        for fila in filas:\n",
        "            columnas = fila.find_all('td')\n",
        "            # Extrae el texto (function) text: Any jade a la lista data\n",
        "            datos_fila = [col.text.strip() for col in columnas]\n",
        "            data.append (datos_fila)\n",
        "    else:\n",
        "        print(\"No se encontró la tabla especificada.\")\n",
        "else:\n",
        "    print(\"Error al realizar la solicitud HTTP:\", response. status_code)\n",
        "\n",
        "# Crear un DataFrame usando la lista data\n",
        "# Primera fila como encabezados si es adecuado\n",
        "if data:\n",
        "    df = pd.DataFrame(data [1:], columns=data [0])\n",
        "    print (df)\n",
        "else:\n",
        "    print(\"No se extrajeron datos para formar un DataFrame.\")"
      ]
    },
    {
      "cell_type": "markdown",
      "id": "9ab1217a-df9d-4a2b-a32c-2c5f1eecd52a",
      "metadata": {
        "id": "9ab1217a-df9d-4a2b-a32c-2c5f1eecd52a"
      },
      "source": [
        "## BONUS\n",
        "\n",
        "The search results span multiple pages, housing a total of 631 movies in our example with each page displaying 50 movies at most. To scrape data seamlessly from all pages, you'll need to dive deep into the structure of the URLs generated with each \"Next\" click.\n",
        "\n",
        "Take a close look at the following URLs:\n",
        "- First page:\n",
        "  ```\n",
        "  https://www.imdb.com/search/title/?title_type=feature&release_date=1990-01-01,1992-12-31&user_rating=7.5,\n",
        "  ```\n",
        "- Second page:\n",
        "  ```\n",
        "  https://www.imdb.com/search/title/?title_type=feature&release_date=1990-01-01,1992-12-31&user_rating=7.5,&start=51&ref_=adv_nxt\n",
        "  ```\n",
        "- Third page:\n",
        "  ```\n",
        "  https://www.imdb.com/search/title/?title_type=feature&release_date=1990-01-01,1992-12-31&user_rating=7.5,&start=101&ref_=adv_nxt\n",
        "  ```\n",
        "\n",
        "You should notice a pattern. There is a `start` parameter incrementing by 50 with each page, paired with a constant `ref_` parameter holding the value \"adv_nxt\".\n",
        "\n",
        "Modify your script so it's capable of iterating over all available pages to fetch data on all the 631 movies (631 is the total number of movies in the proposed example)."
      ]
    },
    {
      "cell_type": "code",
      "execution_count": null,
      "id": "21ac4fc0-a12b-4a00-9266-2020166f0dea",
      "metadata": {
        "id": "21ac4fc0-a12b-4a00-9266-2020166f0dea"
      },
      "outputs": [],
      "source": [
        "# Your solution goes here"
      ]
    }
  ],
  "metadata": {
    "colab": {
      "provenance": []
    },
    "kernelspec": {
      "display_name": "Python 3 (ipykernel)",
      "language": "python",
      "name": "python3"
    },
    "language_info": {
      "codemirror_mode": {
        "name": "ipython",
        "version": 3
      },
      "file_extension": ".py",
      "mimetype": "text/x-python",
      "name": "python",
      "nbconvert_exporter": "python",
      "pygments_lexer": "ipython3",
      "version": "3.11.7"
    }
  },
  "nbformat": 4,
  "nbformat_minor": 5
}
